{
  "nbformat": 4,
  "nbformat_minor": 0,
  "metadata": {
    "colab": {
      "name": "cnn_mnist_torch.ipynb",
      "version": "0.3.2",
      "provenance": [],
      "collapsed_sections": [
        "K1sQ0J4PzfgV"
      ],
      "toc_visible": true,
      "include_colab_link": true
    },
    "kernelspec": {
      "name": "python3",
      "display_name": "Python 3"
    },
    "accelerator": "GPU"
  },
  "cells": [
    {
      "cell_type": "markdown",
      "metadata": {
        "id": "view-in-github",
        "colab_type": "text"
      },
      "source": [
        "<a href=\"https://colab.research.google.com/github/DarkGengar/100DaysOfMLCode/blob/master/cnn_mnist_torch.ipynb\" target=\"_parent\"><img src=\"https://colab.research.google.com/assets/colab-badge.svg\" alt=\"Open In Colab\"/></a>"
      ]
    },
    {
      "metadata": {
        "id": "K1sQ0J4PzfgV",
        "colab_type": "text"
      },
      "cell_type": "markdown",
      "source": [
        "## **Installation Setup for Cuda 9.2 and Pytorch**"
      ]
    },
    {
      "metadata": {
        "id": "509PvTw2sPde",
        "colab_type": "code",
        "outputId": "b175c0e4-d729-4f97-bfae-b5d92c67e403",
        "colab": {
          "base_uri": "https://localhost:8080/",
          "height": 309
        }
      },
      "cell_type": "code",
      "source": [
        "!cat /etc/*-release"
      ],
      "execution_count": 0,
      "outputs": [
        {
          "output_type": "stream",
          "text": [
            "DISTRIB_ID=Ubuntu\n",
            "DISTRIB_RELEASE=18.04\n",
            "DISTRIB_CODENAME=bionic\n",
            "DISTRIB_DESCRIPTION=\"Ubuntu 18.04.1 LTS\"\n",
            "NAME=\"Ubuntu\"\n",
            "VERSION=\"18.04.1 LTS (Bionic Beaver)\"\n",
            "ID=ubuntu\n",
            "ID_LIKE=debian\n",
            "PRETTY_NAME=\"Ubuntu 18.04.1 LTS\"\n",
            "VERSION_ID=\"18.04\"\n",
            "HOME_URL=\"https://www.ubuntu.com/\"\n",
            "SUPPORT_URL=\"https://help.ubuntu.com/\"\n",
            "BUG_REPORT_URL=\"https://bugs.launchpad.net/ubuntu/\"\n",
            "PRIVACY_POLICY_URL=\"https://www.ubuntu.com/legal/terms-and-policies/privacy-policy\"\n",
            "VERSION_CODENAME=bionic\n",
            "UBUNTU_CODENAME=bionic\n"
          ],
          "name": "stdout"
        }
      ]
    },
    {
      "metadata": {
        "id": "gHTjfIzytHDU",
        "colab_type": "code",
        "outputId": "61608049-2ab4-4c34-ece4-d9fa72554429",
        "colab": {
          "base_uri": "https://localhost:8080/",
          "height": 326
        }
      },
      "cell_type": "code",
      "source": [
        "# NVIDIA profiling tool for the available GPU\n",
        "!nvidia-smi"
      ],
      "execution_count": 0,
      "outputs": [
        {
          "output_type": "stream",
          "text": [
            "Thu Dec  6 14:09:37 2018       \n",
            "+-----------------------------------------------------------------------------+\n",
            "| NVIDIA-SMI 396.44                 Driver Version: 396.44                    |\n",
            "|-------------------------------+----------------------+----------------------+\n",
            "| GPU  Name        Persistence-M| Bus-Id        Disp.A | Volatile Uncorr. ECC |\n",
            "| Fan  Temp  Perf  Pwr:Usage/Cap|         Memory-Usage | GPU-Util  Compute M. |\n",
            "|===============================+======================+======================|\n",
            "|   0  Tesla K80           Off  | 00000000:00:04.0 Off |                    0 |\n",
            "| N/A   27C    P8    27W / 149W |      0MiB / 11441MiB |      0%      Default |\n",
            "+-------------------------------+----------------------+----------------------+\n",
            "                                                                               \n",
            "+-----------------------------------------------------------------------------+\n",
            "| Processes:                                                       GPU Memory |\n",
            "|  GPU       PID   Type   Process name                             Usage      |\n",
            "|=============================================================================|\n",
            "|  No running processes found                                                 |\n",
            "+-----------------------------------------------------------------------------+\n"
          ],
          "name": "stdout"
        }
      ]
    },
    {
      "metadata": {
        "id": "61t0XqQotR-j",
        "colab_type": "code",
        "outputId": "9b273edb-b4d8-431f-8d53-3aa06106f738",
        "colab": {
          "base_uri": "https://localhost:8080/",
          "height": 105
        }
      },
      "cell_type": "code",
      "source": [
        "# CLone my repo that contains the shell file\n",
        "!git clone https://gist.github.com/f7b7c7758a46da49f84bc68b47997d69.git"
      ],
      "execution_count": 0,
      "outputs": [
        {
          "output_type": "stream",
          "text": [
            "Cloning into 'f7b7c7758a46da49f84bc68b47997d69'...\n",
            "remote: Enumerating objects: 16, done.\u001b[K\n",
            "remote: Total 16 (delta 0), reused 0 (delta 0), pack-reused 16\u001b[K\n",
            "Unpacking objects: 100% (16/16), done.\n"
          ],
          "name": "stdout"
        }
      ]
    },
    {
      "metadata": {
        "id": "ZZ6gwL40tS1B",
        "colab_type": "code",
        "outputId": "18cc1528-7a61-42f2-fa77-f6e6e426e36d",
        "colab": {
          "base_uri": "https://localhost:8080/",
          "height": 54
        }
      },
      "cell_type": "code",
      "source": [
        "# Move to te directory where the file was donwloaded\n",
        "cd f7b7c7758a46da49f84bc68b47997d69/"
      ],
      "execution_count": 0,
      "outputs": [
        {
          "output_type": "stream",
          "text": [
            "/content/f7b7c7758a46da49f84bc68b47997d69/f7b7c7758a46da49f84bc68b47997d69\n"
          ],
          "name": "stdout"
        }
      ]
    },
    {
      "metadata": {
        "id": "2y1pdHYWtVum",
        "colab_type": "code",
        "outputId": "c74158f1-092e-413e-f766-2af5bac58ad3",
        "colab": {
          "base_uri": "https://localhost:8080/",
          "height": 309
        }
      },
      "cell_type": "code",
      "source": [
        "!wget https://developer.nvidia.com/compute/cuda/9.2/Prod2/local_installers/cuda-repo-ubuntu1604-9-2-local_9.2.148-1_amd64"
      ],
      "execution_count": 0,
      "outputs": [
        {
          "output_type": "stream",
          "text": [
            "--2018-12-06 14:09:41--  https://developer.nvidia.com/compute/cuda/9.2/Prod2/local_installers/cuda-repo-ubuntu1604-9-2-local_9.2.148-1_amd64\n",
            "Resolving developer.nvidia.com (developer.nvidia.com)... 192.229.162.216\n",
            "Connecting to developer.nvidia.com (developer.nvidia.com)|192.229.162.216|:443... connected.\n",
            "HTTP request sent, awaiting response... 302 Found\n",
            "Location: https://developer.download.nvidia.com/compute/cuda/9.2/secure/Prod2/local_installers/cuda-repo-ubuntu1604-9-2-local_9.2.148-1_amd64.deb?ft5zlvrCsxQ5z9kqAMYfu0jrjjv8Ey61aIx-xN6I3co_p0mbmVm33eVtCwWmJMcE7YWBs8yQhklsP9E6hEHszQBPuR7jsAIG86elZOakw4RG_glzVvPzMdFMqCUBOkEguyIYkY9ygie-xPlbqW7gnaqtoqEGIy827JSwHn2QNJsfR2SP15TEtEL9I0l3DeGITO07cSLh9C9CWOV2sMRdTg [following]\n",
            "--2018-12-06 14:09:41--  https://developer.download.nvidia.com/compute/cuda/9.2/secure/Prod2/local_installers/cuda-repo-ubuntu1604-9-2-local_9.2.148-1_amd64.deb?ft5zlvrCsxQ5z9kqAMYfu0jrjjv8Ey61aIx-xN6I3co_p0mbmVm33eVtCwWmJMcE7YWBs8yQhklsP9E6hEHszQBPuR7jsAIG86elZOakw4RG_glzVvPzMdFMqCUBOkEguyIYkY9ygie-xPlbqW7gnaqtoqEGIy827JSwHn2QNJsfR2SP15TEtEL9I0l3DeGITO07cSLh9C9CWOV2sMRdTg\n",
            "Resolving developer.download.nvidia.com (developer.download.nvidia.com)... 192.229.211.70, 2606:2800:21f:3aa:dcf:37b:1ed6:1fb\n",
            "Connecting to developer.download.nvidia.com (developer.download.nvidia.com)|192.229.211.70|:443... connected.\n",
            "HTTP request sent, awaiting response... 200 OK\n",
            "Length: 1267151038 (1.2G) [application/x-deb]\n",
            "Saving to: ‘cuda-repo-ubuntu1604-9-2-local_9.2.148-1_amd64’\n",
            "\n",
            "cuda-repo-ubuntu160 100%[===================>]   1.18G   124MB/s    in 8.3s    \n",
            "\n",
            "2018-12-06 14:09:50 (146 MB/s) - ‘cuda-repo-ubuntu1604-9-2-local_9.2.148-1_amd64’ saved [1267151038/1267151038]\n",
            "\n"
          ],
          "name": "stdout"
        }
      ]
    },
    {
      "metadata": {
        "id": "Km4B923ItrP0",
        "colab_type": "code",
        "outputId": "aed934f3-b774-4d1c-abe5-0f4ac1d1dc73",
        "colab": {
          "base_uri": "https://localhost:8080/",
          "height": 105
        }
      },
      "cell_type": "code",
      "source": [
        "!dpkg --install cuda-repo-ubuntu1604-9-2-local_9.2.148-1_amd64"
      ],
      "execution_count": 0,
      "outputs": [
        {
          "output_type": "stream",
          "text": [
            "(Reading database ... \r(Reading database ... 5%\r(Reading database ... 10%\r(Reading database ... 15%\r(Reading database ... 20%\r(Reading database ... 25%\r(Reading database ... 30%\r(Reading database ... 35%\r(Reading database ... 40%\r(Reading database ... 45%\r(Reading database ... 50%\r(Reading database ... 55%\r(Reading database ... 60%\r(Reading database ... 65%\r(Reading database ... 70%\r(Reading database ... 75%\r(Reading database ... 80%\r(Reading database ... 85%\r(Reading database ... 90%\r(Reading database ... 95%\r(Reading database ... 100%\r(Reading database ... 82932 files and directories currently installed.)\n",
            "Preparing to unpack cuda-repo-ubuntu1604-9-2-local_9.2.148-1_amd64 ...\n",
            "Unpacking cuda-repo-ubuntu1604-9-2-local (9.2.148-1) over (9.2.148-1) ...\n",
            "Setting up cuda-repo-ubuntu1604-9-2-local (9.2.148-1) ...\n"
          ],
          "name": "stdout"
        }
      ]
    },
    {
      "metadata": {
        "id": "ndWPW7BXtuGR",
        "colab_type": "code",
        "outputId": "76b99303-6f10-441a-ff90-f38e0cffc7fe",
        "colab": {
          "base_uri": "https://localhost:8080/",
          "height": 54
        }
      },
      "cell_type": "code",
      "source": [
        "!apt-key add /var/cuda-repo-9-2-local/7fa2af80.pub"
      ],
      "execution_count": 0,
      "outputs": [
        {
          "output_type": "stream",
          "text": [
            "OK\n"
          ],
          "name": "stdout"
        }
      ]
    },
    {
      "metadata": {
        "id": "4OtPwhhKtxsy",
        "colab_type": "code",
        "outputId": "7ae640c6-bd2a-45c4-a64c-c55faea45c05",
        "colab": {
          "base_uri": "https://localhost:8080/",
          "height": 275
        }
      },
      "cell_type": "code",
      "source": [
        "!apt-get update"
      ],
      "execution_count": 0,
      "outputs": [
        {
          "output_type": "stream",
          "text": [
            "\r0% [Working]\r            \rGet:1 file:/var/cuda-repo-9-2-local  InRelease\n",
            "\r            \rIgn:1 file:/var/cuda-repo-9-2-local  InRelease\n",
            "\r0% [Connecting to developer.download.nvidia.com] [Connecting to ppa.launchpad.n\r                                                                               \rGet:2 file:/var/cuda-repo-9-2-local  Release [574 B]\n",
            "\r0% [Connecting to archive.ubuntu.com] [Connecting to security.ubuntu.com] [Conn\r                                                                               \rGet:2 file:/var/cuda-repo-9-2-local  Release [574 B]\n",
            "\r0% [2 Release 0 B/574 B 0%] [Connecting to archive.ubuntu.com] [Connecting to s\r0% [Connecting to archive.ubuntu.com] [Connecting to security.ubuntu.com] [Conn\r0% [Release.gpg gpgv 574 B] [Connecting to archive.ubuntu.com (91.189.88.152)] \r                                                                               \rIgn:3 https://developer.download.nvidia.com/compute/cuda/repos/ubuntu1710/x86_64  InRelease\n",
            "\r0% [Release.gpg gpgv 574 B] [Waiting for headers] [Waiting for headers] [Waitin\r                                                                               \rHit:4 http://ppa.launchpad.net/graphics-drivers/ppa/ubuntu bionic InRelease\n",
            "\r0% [Release.gpg gpgv 574 B] [Waiting for headers] [Waiting for headers] [Waitin\r                                                                               \r0% [Waiting for headers] [Waiting for headers] [Waiting for headers]\r                                                                    \rHit:6 http://security.ubuntu.com/ubuntu bionic-security InRelease\n",
            "\r                                                                    \r0% [Waiting for headers] [Waiting for headers]\r0% [4 InRelease gpgv 21.3 kB] [Waiting for headers] [Waiting for headers]\r                                                                         \rHit:7 http://archive.ubuntu.com/ubuntu bionic InRelease\n",
            "\r0% [4 InRelease gpgv 21.3 kB] [Waiting for headers] [Waiting for headers]\r                                                                         \rIgn:8 https://developer.download.nvidia.com/compute/machine-learning/repos/ubuntu1604/x86_64  InRelease\n",
            "\r                                                                         \r0% [4 InRelease gpgv 21.3 kB] [Waiting for headers]\r                                                   \rHit:9 https://developer.download.nvidia.com/compute/cuda/repos/ubuntu1710/x86_64  Release\n",
            "\r0% [4 InRelease gpgv 21.3 kB] [Waiting for headers]\r                                                   \rHit:10 https://developer.download.nvidia.com/compute/machine-learning/repos/ubuntu1604/x86_64  Release\n",
            "Hit:11 http://archive.ubuntu.com/ubuntu bionic-updates InRelease\n",
            "Hit:12 http://archive.ubuntu.com/ubuntu bionic-backports InRelease\n",
            "Reading package lists... Done\n"
          ],
          "name": "stdout"
        }
      ]
    },
    {
      "metadata": {
        "id": "QLHm02Plt1dA",
        "colab_type": "code",
        "outputId": "b88a565b-861c-46e3-ba83-bc899c9f0388",
        "colab": {
          "base_uri": "https://localhost:8080/",
          "height": 224
        }
      },
      "cell_type": "code",
      "source": [
        "# NOTE: This might take some time..\n",
        "!apt-get install cuda"
      ],
      "execution_count": 0,
      "outputs": [
        {
          "output_type": "stream",
          "text": [
            "Reading package lists... Done\n",
            "Building dependency tree       \n",
            "Reading state information... Done\n",
            "cuda is already the newest version (9.2.148-1).\n",
            "You might want to run 'apt --fix-broken install' to correct these.\n",
            "The following packages have unmet dependencies:\n",
            " cuda-drivers : Depends: nvidia-396 (>= 396.44) but it is not going to be installed\n",
            " libcuda1-396 : Depends: nvidia-396 (>= 396.44) but it is not going to be installed\n",
            " nvidia-396-dev : Depends: nvidia-396 (>= 396.44) but it is not going to be installed\n",
            " nvidia-opencl-icd-396 : Depends: nvidia-396 (>= 396.44) but it is not going to be installed\n",
            "E: Unmet dependencies. Try 'apt --fix-broken install' with no packages (or specify a solution).\n"
          ],
          "name": "stdout"
        }
      ]
    },
    {
      "metadata": {
        "id": "ps23ZBAxt-Ax",
        "colab_type": "code",
        "outputId": "2878e2e6-e1b4-451f-92c6-e039dd814d32",
        "colab": {
          "base_uri": "https://localhost:8080/",
          "height": 54
        }
      },
      "cell_type": "code",
      "source": [
        "# Check the version of CUDA on the system\n",
        "!cat /usr/local/cuda/version.txt"
      ],
      "execution_count": 0,
      "outputs": [
        {
          "output_type": "stream",
          "text": [
            "CUDA Version 9.2.148\n"
          ],
          "name": "stdout"
        }
      ]
    },
    {
      "metadata": {
        "id": "fcghEe3buCCY",
        "colab_type": "code",
        "outputId": "243608a6-819e-4146-c475-2e7b1434782d",
        "colab": {
          "base_uri": "https://localhost:8080/",
          "height": 54
        }
      },
      "cell_type": "code",
      "source": [
        "!pip install http://download.pytorch.org/whl/cu92/torch-0.4.1-cp36-cp36m-linux_x86_64.whl"
      ],
      "execution_count": 0,
      "outputs": [
        {
          "output_type": "stream",
          "text": [
            "Requirement already satisfied: torch==0.4.1 from http://download.pytorch.org/whl/cu92/torch-0.4.1-cp36-cp36m-linux_x86_64.whl in /usr/local/lib/python3.6/dist-packages (0.4.1)\n"
          ],
          "name": "stdout"
        }
      ]
    },
    {
      "metadata": {
        "id": "DLMWid3juGFR",
        "colab_type": "code",
        "outputId": "c68fb2f2-cda9-4549-d427-28a1ecf7844c",
        "colab": {
          "base_uri": "https://localhost:8080/",
          "height": 122
        }
      },
      "cell_type": "code",
      "source": [
        "!pip install torchvision"
      ],
      "execution_count": 0,
      "outputs": [
        {
          "output_type": "stream",
          "text": [
            "Requirement already satisfied: torchvision in /usr/local/lib/python3.6/dist-packages (0.2.1)\n",
            "Requirement already satisfied: numpy in /usr/local/lib/python3.6/dist-packages (from torchvision) (1.14.6)\n",
            "Requirement already satisfied: torch in /usr/local/lib/python3.6/dist-packages (from torchvision) (0.4.1)\n",
            "Requirement already satisfied: six in /usr/local/lib/python3.6/dist-packages (from torchvision) (1.11.0)\n",
            "Requirement already satisfied: pillow>=4.1.1 in /usr/local/lib/python3.6/dist-packages (from torchvision) (5.3.0)\n"
          ],
          "name": "stdout"
        }
      ]
    },
    {
      "metadata": {
        "id": "PFzNWDoQuG1o",
        "colab_type": "code",
        "outputId": "bac552ef-af04-49ad-ffa8-90d1da50bc84",
        "colab": {
          "base_uri": "https://localhost:8080/",
          "height": 139
        }
      },
      "cell_type": "code",
      "source": [
        "# Use PyTorch to check versions, CUDA version and cuDNN\n",
        "\n",
        "import torch\n",
        "\n",
        "print(\"PyTorch version: \")\n",
        "print(torch.__version__)\n",
        "print(\"CUDA Version: \")\n",
        "print(torch.version.cuda)\n",
        "print(\"cuDNN version is: \")\n",
        "print(torch.backends.cudnn.version())"
      ],
      "execution_count": 0,
      "outputs": [
        {
          "output_type": "stream",
          "text": [
            "PyTorch version: \n",
            "0.4.1\n",
            "CUDA Version: \n",
            "9.2.148\n",
            "cuDNN version is: \n",
            "7104\n"
          ],
          "name": "stdout"
        }
      ]
    },
    {
      "metadata": {
        "id": "pqDDHrmLt0kk",
        "colab_type": "text"
      },
      "cell_type": "markdown",
      "source": [
        "##**Setup Google Colab for data reading and uploading from or to Google Drive**"
      ]
    },
    {
      "metadata": {
        "id": "S5wMlreDuC30",
        "colab_type": "code",
        "colab": {}
      },
      "cell_type": "code",
      "source": [
        "!pip install -U -q PyDrive\n",
        "from pydrive.auth import GoogleAuth\n",
        "from pydrive.drive import GoogleDrive \n",
        "from google.colab import auth \n",
        "from oauth2client.client import GoogleCredentials"
      ],
      "execution_count": 0,
      "outputs": []
    },
    {
      "metadata": {
        "id": "axA_mWRck2il",
        "colab_type": "code",
        "colab": {}
      },
      "cell_type": "code",
      "source": [
        "auth.authenticate_user()\n",
        "gauth = GoogleAuth()\n",
        "gauth.credentials = GoogleCredentials.get_application_default()\n",
        "drive = GoogleDrive(gauth)"
      ],
      "execution_count": 0,
      "outputs": []
    },
    {
      "metadata": {
        "id": "iDVa_BeH3Kh6",
        "colab_type": "code",
        "colab": {}
      },
      "cell_type": "code",
      "source": [
        "import torch\n",
        "import torch.nn as nn\n",
        "\n",
        "def upload_model_to_gd(\n",
        "        dest_dir_id: str, model_file: str, \n",
        "        src_file: str, update=False):\n",
        "    \"\"\"Uploads the model parameters to Google Drive.\n",
        "    \n",
        "    Saves the model parameters into the file format '.pth' to the given\n",
        "    destination directory ID.\n",
        "  \n",
        "    Args:\n",
        "        dest_dir_id: The Google Drive ID for a destination directory.\n",
        "        model_file: The Name for the Google Drive File to be created.\n",
        "        src_file: A File to get data from for a Google Drive file.\n",
        "        update: If update is set to True than the function does not\n",
        "            create a file on Google Drive but it update a file\n",
        "            on Google Drive.\n",
        "    \"\"\"\n",
        "    uploaded = None\n",
        "    if update:\n",
        "        file_list = drive.ListFile({\n",
        "            'q': \"'{}' in parents and \"\"title='{}' and trashed=false\"\n",
        "            .format(dest_dir_id, model_file)\n",
        "        }).GetList()\n",
        "        if len(file_list) == 1:\n",
        "            uploaded = drive.CreateFile({'id' : file_list[0]['id']})\n",
        "        else:\n",
        "            print('In the directory are multiple files with the'\n",
        "                  'same name.')\n",
        "    else:\n",
        "        uploaded = drive.CreateFile({\n",
        "            'title': model_file,\n",
        "            'parents':[{\n",
        "                'kind': 'drive#fileLink',\n",
        "                'id': dest_dir_id}]})\n",
        "    uploaded.SetContentFile(src_file)\n",
        "    uploaded.Upload()\n",
        "    print('Uploaded file with ID {}'.format(uploaded.get('id')))\n",
        "\n",
        "def load_model_from_gd(model_id: str, dest_file: str):\n",
        "    \"\"\"Loads model parameters from Google Drive.\n",
        "    \n",
        "    The model parameters from Goolge Drive will be overwrite the given \n",
        "    destination file.\n",
        "    \n",
        "    Args:\n",
        "        model_id: The ID in order to load the uploaded Google Drive \n",
        "            file with the model parameters.\n",
        "        dest_file: The file which will be overwritten with the loaded\n",
        "            model parameters from the Google Drive file.\n",
        "            \n",
        "    Returns:\n",
        "        A dictionary with the model parameters. The keys of the\n",
        "        dictionary are the names of the parameters.\n",
        "    \"\"\"\n",
        "    downloaded = drive.CreateFile({'id': model_id})\n",
        "    downloaded.GetContentFile(dest_file)\n",
        "    return torch.load(dest_file)"
      ],
      "execution_count": 0,
      "outputs": []
    },
    {
      "metadata": {
        "id": "kmUmf3weUkrx",
        "colab_type": "text"
      },
      "cell_type": "markdown",
      "source": [
        "##**Convolutional Neural Network**\n",
        "**Best Accuracy of the Network:** 98.35 % \\\n",
        "**Parameters:** \\\n",
        "Kernel"
      ]
    },
    {
      "metadata": {
        "id": "KjA_YwMeUrlC",
        "colab_type": "code",
        "colab": {}
      },
      "cell_type": "code",
      "source": [
        "import torch\n",
        "import torch.nn as nn\n",
        "import torch.nn.functional as F\n",
        "import torch.optim as optim\n",
        "import torchvision\n",
        "import torchvision.transforms as transforms\n",
        "\n",
        "import numpy as np\n",
        "import matplotlib.pyplot as plt\n",
        "import os"
      ],
      "execution_count": 0,
      "outputs": []
    },
    {
      "metadata": {
        "id": "GJpg3NmHVNDQ",
        "colab_type": "code",
        "outputId": "efb43217-f17e-443e-cda1-0032f82ca8dd",
        "colab": {
          "base_uri": "https://localhost:8080/",
          "height": 119
        }
      },
      "cell_type": "code",
      "source": [
        "#@title Load MNIST Dataset\n",
        "transform = transforms.Compose(\n",
        "  [transforms.ToTensor(),\n",
        "   transforms.Normalize((0.5,0.5,0.5), (0.5,0.5,0.5))])\n",
        "\n",
        "trainset = torchvision.datasets.MNIST(root='./data', train=True,\n",
        "                                      download=True, transform=transform)\n",
        "trainloader = torch.utils.data.DataLoader(trainset, batch_size=16,\n",
        "                                          shuffle=True, num_workers=2)\n",
        "testset = torchvision.datasets.MNIST(root='./data', train=False,\n",
        "                                     download=True, transform=transform)\n",
        "testloader = torch.utils.data.DataLoader(testset, batch_size=16,\n",
        "                                         shuffle=False, num_workers=2)"
      ],
      "execution_count": 0,
      "outputs": [
        {
          "output_type": "stream",
          "text": [
            "Downloading http://yann.lecun.com/exdb/mnist/train-images-idx3-ubyte.gz\n",
            "Downloading http://yann.lecun.com/exdb/mnist/train-labels-idx1-ubyte.gz\n",
            "Downloading http://yann.lecun.com/exdb/mnist/t10k-images-idx3-ubyte.gz\n",
            "Downloading http://yann.lecun.com/exdb/mnist/t10k-labels-idx1-ubyte.gz\n",
            "Processing...\n",
            "Done!\n"
          ],
          "name": "stdout"
        }
      ]
    },
    {
      "metadata": {
        "id": "fdz0tI4FXNSh",
        "colab_type": "code",
        "outputId": "45935125-4e22-43bd-f935-90fe241c37b6",
        "colab": {
          "base_uri": "https://localhost:8080/",
          "height": 165
        }
      },
      "cell_type": "code",
      "source": [
        "def imshow(img):\n",
        "  img = img / 2 + 0.5\n",
        "  npimg = img.numpy()\n",
        "  plt.imshow(np.transpose(npimg, (1,2,0)))\n",
        "  \n",
        "dataiter = iter(trainloader)\n",
        "data = dataiter.next()\n",
        "images, _ = data\n",
        "\n",
        "imshow(torchvision.utils.make_grid(images))"
      ],
      "execution_count": 0,
      "outputs": [
        {
          "output_type": "display_data",
          "data": {
            "image/png": "[encoded data removed]",
            "text/plain": [
              "<matplotlib.figure.Figure at 0x7f6f66dfb128>"
            ]
          },
          "metadata": {
            "tags": []
          }
        }
      ]
    },
    {
      "metadata": {
        "id": "Ng5TmWt8YVgM",
        "colab_type": "code",
        "colab": {}
      },
      "cell_type": "code",
      "source": [
        "#@title Definition of the CNN\n",
        "class LeNet(nn.Module):\n",
        "    \"\"\"Convolutional Neural Network architecture based on LeNet.\n",
        "    \n",
        "    Attributes:\n",
        "        conv1: The first convolutional layer in the architecture.\n",
        "        conv2: The second convolutional layer in the architecture.\n",
        "        pool: The pooling layer of the architecture.\n",
        "        fc1: The input fully connected layer of the architecture.\n",
        "        fc2: The hidden fully connected layer of the architecture.\n",
        "        fc3: The output fully connected layer of the architecture.\n",
        "    \"\"\"\n",
        "\n",
        "    def __init__(self):\n",
        "        \"\"\"Initialize LeNet with the layers it contains.\"\"\"\n",
        "        super(LeNet, self).__init__()\n",
        "        self.conv1 = nn.Conv2d(1, 5, kernel_size=5)\n",
        "        self.pool = nn.MaxPool2d((2,2))\n",
        "        self.conv2 = nn.Conv2d(5, 5, kernel_size=5)\n",
        "        self.fc1 = nn.Linear(5 * 10 * 10, 100)\n",
        "        self.fc2 = nn.Linear(100, 60)\n",
        "        self.fc3 = nn.Linear(60, 10)\n",
        "\n",
        "    def forward(self, x):\n",
        "        \"\"\"See base class.\"\"\"\n",
        "        x = F.relu(self.conv1(x))\n",
        "        x = self.pool(F.relu(self.conv2(x)))\n",
        "        x = x.view(-1, 5 * 10 * 10)\n",
        "        x = F.relu(self.fc1(x))\n",
        "        x = F.relu(self.fc2(x))\n",
        "        x = self.fc3(x)\n",
        "        return x\n",
        "\n",
        "    def train(self, model, criterion, trainloader, epochs=8):\n",
        "        \"\"\"Trains the model with the loaded trainset.\n",
        "        \n",
        "        Args:\n",
        "            model:\n",
        "            criterion:\n",
        "            trainloader:\n",
        "            epochs:\n",
        "        \"\"\"\n",
        "        for epoch in range(epochs):\n",
        "            for data in trainloader:\n",
        "                inputs, labels = data\n",
        "                optimizer.zero_grad()\n",
        "                outputs = model(inputs)\n",
        "                loss = criterion(outputs, labels)\n",
        "                loss.backward()\n",
        "                optimizer.step()\n",
        "                #save_model(self)\n",
        "        print('Finished Training')\n",
        "    \n",
        "    def query(self, model: nn.Module, testloader):\n",
        "        \"\"\"Tests the pretrained model against the loaded testset.\n",
        "        \n",
        "        Args:\n",
        "            model: Is an instance of the neural network class.\n",
        "            testloader: \n",
        "            \n",
        "        \"\"\"\n",
        "        total = 0\n",
        "        score = 0\n",
        "        with torch.no_grad():\n",
        "            for data in testloader:\n",
        "                inputs, labels = data\n",
        "                outputs = model(inputs)\n",
        "                _, prediction = torch.max(outputs, 1)\n",
        "                total += labels.shape[0]\n",
        "                score += (prediction==labels).sum().item()\n",
        "        print('Accuracy of Neural Network on the {} test images: {} %'\n",
        "              .format(total, score/total * 100))\n",
        "\n",
        "model = LeNet()"
      ],
      "execution_count": 0,
      "outputs": []
    },
    {
      "metadata": {
        "id": "Owf04AsBbYAQ",
        "colab_type": "code",
        "outputId": "9e40a8a4-7382-4bfe-a6f6-7418a521767c",
        "colab": {
          "base_uri": "https://localhost:8080/",
          "height": 34
        }
      },
      "cell_type": "code",
      "source": [
        "#@title Create Directory for downloaded file\n",
        "# Local path in Google Colab\n",
        "DOWNLOAD_PATH = os.path.expanduser('~/data')\n",
        "# Local file in Google colab\n",
        "DOWNLOAD_FILE = 'model.tmp'\n",
        "OUTPUT_FILE = os.path.join(DOWNLOAD_PATH, DOWNLOAD_FILE)\n",
        "\n",
        "try:\n",
        "  os.makedirs(DOWNLOAD_PATH)\n",
        "except FileExistsError:\n",
        "  print('The Directory path already exist.')"
      ],
      "execution_count": 0,
      "outputs": [
        {
          "output_type": "stream",
          "text": [
            "The Directory path already exist.\n"
          ],
          "name": "stdout"
        }
      ]
    },
    {
      "metadata": {
        "id": "auDhmydhpR2v",
        "colab_type": "code",
        "outputId": "b6d3e028-0df9-46e4-d94b-6c8fa7a97260",
        "colab": {
          "base_uri": "https://localhost:8080/",
          "height": 153
        }
      },
      "cell_type": "code",
      "source": [
        "#@title Load model from Google Drive\n",
        "# ID of model file of Google Drive\n",
        "MODEL_ID = '164Fd7TKhT_JsuZqlUuJNfw51WqjUNAM9'\n",
        "model_params = load_model_from_gd(MODEL_ID, OUTPUT_FILE)\n",
        "model.load_state_dict(model_params)\n",
        "print(model)"
      ],
      "execution_count": 0,
      "outputs": [
        {
          "output_type": "stream",
          "text": [
            "LeNet(\n",
            "  (conv1): Conv2d(1, 5, kernel_size=(5, 5), stride=(1, 1))\n",
            "  (pool): MaxPool2d(kernel_size=(2, 2), stride=(2, 2), padding=0, dilation=1, ceil_mode=False)\n",
            "  (conv2): Conv2d(5, 5, kernel_size=(5, 5), stride=(1, 1))\n",
            "  (fc1): Linear(in_features=500, out_features=100, bias=True)\n",
            "  (fc2): Linear(in_features=100, out_features=60, bias=True)\n",
            "  (fc3): Linear(in_features=60, out_features=10, bias=True)\n",
            ")\n"
          ],
          "name": "stdout"
        }
      ]
    },
    {
      "metadata": {
        "id": "xK5u7oI6oNoB",
        "colab_type": "code",
        "outputId": "876fd498-3baa-4f06-e56d-d85b1220124c",
        "colab": {
          "base_uri": "https://localhost:8080/",
          "height": 153
        }
      },
      "cell_type": "code",
      "source": [
        "#@title Defines the cost function and the optimizer\n",
        "criterion = nn.CrossEntropyLoss()\n",
        "optimizer = optim.SGD(model.parameters(), lr=0.001, momentum=0.7)\n",
        "print(model)"
      ],
      "execution_count": 0,
      "outputs": [
        {
          "output_type": "stream",
          "text": [
            "LeNet(\n",
            "  (conv1): Conv2d(1, 5, kernel_size=(5, 5), stride=(1, 1))\n",
            "  (pool): MaxPool2d(kernel_size=(2, 2), stride=(2, 2), padding=0, dilation=1, ceil_mode=False)\n",
            "  (conv2): Conv2d(5, 5, kernel_size=(5, 5), stride=(1, 1))\n",
            "  (fc1): Linear(in_features=500, out_features=100, bias=True)\n",
            "  (fc2): Linear(in_features=100, out_features=60, bias=True)\n",
            "  (fc3): Linear(in_features=60, out_features=10, bias=True)\n",
            ")\n"
          ],
          "name": "stdout"
        }
      ]
    },
    {
      "metadata": {
        "id": "uytkXlocosLM",
        "colab_type": "code",
        "outputId": "547f7312-c91e-45da-ad57-0b0ef42727e2",
        "colab": {
          "base_uri": "https://localhost:8080/",
          "height": 34
        }
      },
      "cell_type": "code",
      "source": [
        "#@title Trains the model\n",
        "model.train()"
      ],
      "execution_count": 0,
      "outputs": [
        {
          "output_type": "stream",
          "text": [
            "Finished Training\n"
          ],
          "name": "stdout"
        }
      ]
    },
    {
      "metadata": {
        "id": "usYHNx-9s1-J",
        "colab_type": "code",
        "outputId": "c726434b-2cc7-4280-f5e0-c5341a667310",
        "colab": {
          "base_uri": "https://localhost:8080/",
          "height": 34
        }
      },
      "cell_type": "code",
      "source": [
        "#@title Tests the model\n",
        "model.query()"
      ],
      "execution_count": 0,
      "outputs": [
        {
          "output_type": "stream",
          "text": [
            "Accuracy of Neural Network on the 10000 test images: 97.99 %\n"
          ],
          "name": "stdout"
        }
      ]
    },
    {
      "metadata": {
        "id": "xP97F9_JQvzM",
        "colab_type": "code",
        "colab": {}
      },
      "cell_type": "code",
      "source": [
        "#@title Saves the model parameters\n",
        "torch.save(model.state_dict(), OUTPUT_FILE)"
      ],
      "execution_count": 0,
      "outputs": []
    },
    {
      "metadata": {
        "id": "94KzuYwRk7N4",
        "colab_type": "code",
        "outputId": "df97f448-111b-4acf-dc41-aaba616983e1",
        "colab": {
          "base_uri": "https://localhost:8080/",
          "height": 34
        }
      },
      "cell_type": "code",
      "source": [
        "#@title Uploads model to Google Drive\n",
        "# ID of destination folder of Google Drive\n",
        "DEST_DIR_ID = '1fRs6PMtvJQmFOSLP-tifK_YEAFvB93Fq'\n",
        "# Name of destination file of Google Drive\n",
        "GD_FILE = 'cnn_mnist_torch.pth'\n",
        "upload_model_to_gd(DEST_DIR_ID, GD_FILE, OUTPUT_FILE, update=True)"
      ],
      "execution_count": 0,
      "outputs": [
        {
          "output_type": "stream",
          "text": [
            "Uploaded file with ID 164Fd7TKhT_JsuZqlUuJNfw51WqjUNAM9\n"
          ],
          "name": "stdout"
        }
      ]
    },
    {
      "metadata": {
        "id": "Q-sINWtQdIgE",
        "colab_type": "code",
        "outputId": "8d101c42-ce6e-43af-db3f-c6afd748dfb7",
        "colab": {
          "base_uri": "https://localhost:8080/",
          "height": 34
        }
      },
      "cell_type": "code",
      "source": [
        "print(os.path.realpath(OUTPUT_FILE))"
      ],
      "execution_count": 0,
      "outputs": [
        {
          "output_type": "stream",
          "text": [
            "/root/data/model.tmp\n"
          ],
          "name": "stdout"
        }
      ]
    }
  ]
}