{
 "cells": [
  {
   "cell_type": "markdown",
   "metadata": {},
   "source": [
    "# Hello World Neural Network"
   ]
  },
  {
   "cell_type": "code",
   "execution_count": 2,
   "metadata": {},
   "outputs": [],
   "source": [
    "import numpy as np\n",
    "import pandas as pd\n",
    "import PIL as pillow\n",
    "import matplotlib.pyplot as plt\n",
    "%matplotlib inline\n",
    "import os"
   ]
  },
  {
   "cell_type": "markdown",
   "metadata": {},
   "source": [
    "## Preprocess the MNIST Dataset for the Neural Network"
   ]
  },
  {
   "cell_type": "code",
   "execution_count": 25,
   "metadata": {},
   "outputs": [],
   "source": [
    "train_data = pd.read_csv(\"dataset/train_dataset.csv\")\n",
    "test_data = pd.read_csv(\"dataset/test_dataset.csv\")\n",
    "\n",
    "train_labels = []\n",
    "test_labels = []\n",
    "input_list = []\n",
    "target_list = []\n",
    "test_list = []\n",
    "\n",
    "def show_num(img_array):\n",
    "    img = img_array.reshape((28,28))\n",
    "    plt.imshow(img, cmap='Greys', interpolation=None)\n",
    "\n",
    "# Split train data in Targets, Labels and Inputs for the NN\n",
    "for i in range(len(train_data)):\n",
    "    label = train_data.iloc[i][0]\n",
    "    target = np.zeros(10) + 0.01\n",
    "    target[label] = 0.99\n",
    "    target_list.append(target)\n",
    "    train_labels.append(label)\n",
    "    input_list.append(train_data.iloc[i][1:])\n",
    "\n",
    "# Split test data in Tests\n",
    "for i in range(len(test_data)):\n",
    "    test_list.append(test_data.iloc[i][1:])\n",
    "    test_labels.append(test_data.iloc[i][0])\n",
    "\n",
    "# Normalize the input data in range [0, 1] for the NN\n",
    "inputs = (np.asfarray(input_list)/255.0 * 0.99) + 0.01\n",
    "targets = (np.asfarray(target_list))\n",
    "tests = (np.asfarray(test_list)/255.0 * 0.99) + 0.01"
   ]
  },
  {
   "cell_type": "markdown",
   "metadata": {},
   "source": [
    "## Implementation of the NN"
   ]
  },
  {
   "cell_type": "code",
   "execution_count": 38,
   "metadata": {},
   "outputs": [
    {
     "name": "stdout",
     "output_type": "stream",
     "text": [
      "Output:\n",
      "4\n",
      "[[0.03921474]\n",
      " [0.07675227]\n",
      " [0.07429844]\n",
      " [0.10002302]\n",
      " [0.09030383]\n",
      " [0.07681162]\n",
      " [0.07999537]\n",
      " [0.4787999 ]\n",
      " [0.08525206]\n",
      " [0.08186135]]\n",
      "7\n",
      "Output:\n",
      "7\n",
      "[[0.04528571]\n",
      " [0.08621652]\n",
      " [0.08626596]\n",
      " [0.20655697]\n",
      " [0.07578981]\n",
      " [0.08766636]\n",
      " [0.08490275]\n",
      " [0.36502866]\n",
      " [0.0813967 ]\n",
      " [0.08479194]]\n",
      "7\n",
      "Output:\n",
      "8\n",
      "[[0.05753737]\n",
      " [0.10450407]\n",
      " [0.11032676]\n",
      " [0.5210948 ]\n",
      " [0.05613888]\n",
      " [0.10903836]\n",
      " [0.09375534]\n",
      " [0.20729056]\n",
      " [0.07526528]\n",
      " [0.08992056]]\n",
      "3\n"
     ]
    }
   ],
   "source": [
    "def sigmoid(x, deriv=False):\n",
    "    if deriv:\n",
    "        return x * (1 - x)\n",
    "    return 1/(1 + np.e**-x)\n",
    "\n",
    "IN_NEURONS = 784\n",
    "HIDD_NEURONS = 2\n",
    "OUT_NEURONS = 10\n",
    "LEARNING_RATE = 0.3\n",
    "EPOCHS = 100\n",
    "\n",
    "W_in_hidd = (2*np.random.rand(HIDD_NEURONS, IN_NEURONS) - 1)*0.99\n",
    "W_hidd_out = (2*np.random.rand(OUT_NEURONS, HIDD_NEURONS) - 1)*0.99\n",
    "\n",
    "for e in range(EPOCHS):\n",
    "    for i in range(len(inputs)):\n",
    "        I = np.array(inputs[i], ndmin=2).T\n",
    "        T = np.array(targets[i], ndmin=2).T\n",
    "        in_layer = I\n",
    "        hidd_layer = sigmoid(W_in_hidd.dot(I))\n",
    "        out_layer = sigmoid(W_hidd_out.dot(hidd_layer))\n",
    "\n",
    "        error_out = T - out_layer\n",
    "        error_hidden = W_hidd_out.T.dot(error_out)\n",
    "        error_input = W_in_hidd.T.dot(error_hidden)\n",
    "\n",
    "        out_layer_delta = error_out * sigmoid(out_layer, deriv=True)\n",
    "        W_hidd_out += LEARNING_RATE * out_layer_delta.dot(hidd_layer.T)\n",
    "        hidd_layer_delta = error_hidden * sigmoid(hidd_layer, deriv=True)\n",
    "        W_in_hidd += LEARNING_RATE * hidd_layer_delta.dot(in_layer.T)\n",
    "\n",
    "for i in range(len(tests)):\n",
    "    I = np.array(tests[i], ndmin=2).T\n",
    "    in_layer = I\n",
    "    hidd_layer = sigmoid(W_in_hidd.dot(I))\n",
    "    out_layer = sigmoid(W_hidd_out.dot(hidd_layer))\n",
    "    print(\"Output:\")\n",
    "    print(test_labels[i])\n",
    "    print(out_layer)\n",
    "    print(np.argmax(out_layer))"
   ]
  }
 ],
 "metadata": {
  "kernelspec": {
   "display_name": "Python 3",
   "language": "python",
   "name": "python3"
  },
  "language_info": {
   "codemirror_mode": {
    "name": "ipython",
    "version": 3
   },
   "file_extension": ".py",
   "mimetype": "text/x-python",
   "name": "python",
   "nbconvert_exporter": "python",
   "pygments_lexer": "ipython3",
   "version": "3.6.0"
  }
 },
 "nbformat": 4,
 "nbformat_minor": 2
}
