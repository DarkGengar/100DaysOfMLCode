{
 "cells": [
  {
   "cell_type": "code",
   "execution_count": 1,
   "metadata": {},
   "outputs": [],
   "source": [
    "import numpy as np\n",
    "import pickle\n",
    "import matplotlib.pyplot as plt"
   ]
  },
  {
   "cell_type": "markdown",
   "metadata": {},
   "source": [
    "## Data preprocessing of the dataset CIFAR-10"
   ]
  },
  {
   "cell_type": "code",
   "execution_count": 2,
   "metadata": {},
   "outputs": [],
   "source": [
    "# @title Data preprocessing for Cifar-10 Dataset\n",
    "\n",
    "batch_dir = \"dataset/cifar-10-batches-py\"\n",
    "batches_meta_file = \"dataset/cifar-10-batches-py/batches.meta\"\n",
    "\n",
    "def dump_batches():\n",
    "    n_train_batches = 5\n",
    "    \n",
    "    for idx in range(1, n_train_batches + 1):\n",
    "        labels, imgs = load_train_batch(batch_dir, idx)\n",
    "        norm_imgs = normalize(imgs, 0.0, 255.0)\n",
    "        encoded_labels = one_hot_encode(labels)\n",
    "        \n",
    "        file = 'dataset/prep/prep_batch_' + str(idx) + '.pickle'\n",
    "        with open(file, 'wb') as f:\n",
    "            pickle.dump((encoded_labels, norm_imgs), f)\n",
    "    \n",
    "    labels, imgs = load_test_batch(batch_dir)\n",
    "    norm_imgs = normalize(imgs, 0.0, 255.0)\n",
    "    encoded_labels = one_hot_encode(labels)\n",
    "    \n",
    "    file = 'dataset/prep/prep_test_batch.pickle'\n",
    "    with open(file, 'wb') as f:\n",
    "            pickle.dump((encoded_labels, norm_imgs), f)\n",
    "\n",
    "def unpickle(file):\n",
    "    with open(file, 'rb') as fo:\n",
    "        dict = pickle.load(fo, encoding='bytes')\n",
    "    return dict\n",
    "\n",
    "def load_train_batch(batch_dir, i):\n",
    "    batch_i = unpickle(batch_dir + '/data_batch_' + str(i))\n",
    "    labels = batch_i[b'labels']\n",
    "    data = batch_i[b'data']\n",
    "    imgs = data.reshape(len(data), 3, 32, 32).transpose(0,2,3,1)\n",
    "    return labels, imgs\n",
    "\n",
    "def load_test_batch(batch_dir):\n",
    "    test_batch = unpickle(batch_dir + '/test_batch')\n",
    "    labels = test_batch[b'labels']\n",
    "    data = test_batch[b'data']\n",
    "    imgs = data.reshape(len(data), 3, 32, 32).transpose(0,2,3,1)\n",
    "    return labels, imgs\n",
    "    \n",
    "\n",
    "def load_labels():\n",
    "    return ['airplane', 'automobile', 'bird', 'cat', 'deer', 'dog', 'frog', 'horse', 'ship', 'truck']\n",
    "\n",
    "def show_img(imgs, idx, labels, label_names):\n",
    "    img = imgs[idx]\n",
    "    label = np.argmax(labels[idx])\n",
    "    category = label_names[label]\n",
    "    print(\"Category of the image is {}\".format(category))\n",
    "    plt.imshow(img)\n",
    "    \n",
    "def normalize(x, min, max):\n",
    "    return (x - min)/(max - min)\n",
    "\n",
    "def one_hot_encode(x):\n",
    "    encoded = np.zeros((len(x), 10))\n",
    "    for idx, val in enumerate(x):\n",
    "        encoded[idx][val] = 1\n",
    "    return encoded"
   ]
  },
  {
   "cell_type": "code",
   "execution_count": 3,
   "metadata": {},
   "outputs": [
    {
     "name": "stdout",
     "output_type": "stream",
     "text": [
      "Category of the image is automobile\n"
     ]
    },
    {
     "data": {
      "image/png": "[encoded data removed]",
      "text/plain": [
       "<Figure size 432x288 with 1 Axes>"
      ]
     },
     "metadata": {},
     "output_type": "display_data"
    }
   ],
   "source": [
    "label_names = load_labels()\n",
    "labels, imgs = load_train_batch(batch_dir, 1)\n",
    "labels = one_hot_encode(labels)\n",
    "norm_imgs = normalize(imgs, 0, 255.0)\n",
    "show_img(norm_imgs, 9997, labels, label_names)"
   ]
  },
  {
   "cell_type": "code",
   "execution_count": null,
   "metadata": {},
   "outputs": [],
   "source": [
    "dump_batches()"
   ]
  },
  {
   "cell_type": "markdown",
   "metadata": {},
   "source": [
    "## Convolutional Neural Network"
   ]
  },
  {
   "cell_type": "code",
   "execution_count": 4,
   "metadata": {},
   "outputs": [],
   "source": [
    "# Set of functions for the CNN architecture\n",
    "def relu(x):\n",
    "    return np.maximum(0, x)\n",
    "\n",
    "def sigmoid(x, deriv=False):\n",
    "    if deriv:\n",
    "        return x * (1 - x)\n",
    "    else:\n",
    "        return 1 / (1 + np.e**-x)"
   ]
  },
  {
   "cell_type": "code",
   "execution_count": 5,
   "metadata": {},
   "outputs": [
    {
     "name": "stdout",
     "output_type": "stream",
     "text": [
      "Category of the image is frog\n"
     ]
    },
    {
     "data": {
      "image/png": "[encoded data removed]",
      "text/plain": [
       "<Figure size 432x288 with 1 Axes>"
      ]
     },
     "metadata": {},
     "output_type": "display_data"
    }
   ],
   "source": [
    "prep_batch_dir = 'dataset/prep'\n",
    "batch_1 = prep_batch_dir + '/prep_batch_1.pickle'\n",
    "with open(batch_1, 'rb') as f:\n",
    "    batch_1_labels, batch_1_imgs = pickle.load(f, encoding='bytes')\n",
    "    \n",
    "show_img(batch_1_imgs, 0, batch_1_labels, label_names)"
   ]
  },
  {
   "cell_type": "code",
   "execution_count": 37,
   "metadata": {},
   "outputs": [
    {
     "name": "stdout",
     "output_type": "stream",
     "text": [
      "30 30\n",
      "6\n"
     ]
    }
   ],
   "source": [
    "input_layer = batch_1_imgs[0]\n",
    "kernel_size = 3\n",
    "n_kernels = 1\n",
    "stride = 1\n",
    "padding = 0\n",
    "kernel = np.zeros((kernel_size, kernel_size, 3)) + 0.01\n",
    "row_kernel = kernel.reshape(1, -1)\n",
    "\n",
    "## convolutional layer\n",
    "n_pos_width = int(((input_layer.shape[0] - kernel_size + 2*padding)/stride) + 1)\n",
    "n_pos_height = int(((input_layer.shape[1] - kernel_size + 2*padding)/stride) + 1)\n",
    "print(n_pos_width, n_pos_height)\n",
    "\n",
    "# create receptive fields of image and flat it to a 1-D vector\n",
    "col_img = []\n",
    "for height in range(0, n_pos_height):\n",
    "    for width in range(0, n_pos_width):\n",
    "        recept_field_red = input_layer[width:width+kernel_size, height:height+kernel_size, 0]\n",
    "        recept_field_green = input_layer[width:width+kernel_size, height:height+kernel_size, 1]\n",
    "        recept_field_blue = input_layer[width:width+kernel_size, height:height+kernel_size, 2]\n",
    "        \n",
    "        col_img.append([recept_field_red, recept_field_green, recept_field_blue])\n",
    "col_img = np.asfarray(col_img).reshape((kernel_size**2)*3, -1)\n",
    "\n",
    "feature_map = row_kernel.dot(col_img).reshape(n_pos_width, n_pos_height, n_kernels)\n",
    "conv_layer = relu(feature_map)\n",
    "conv_img = conv_layer.reshape(30, 30)\n",
    "\n",
    "## pool layer\n",
    "pool_size = 2\n",
    "pool_pad = 0\n",
    "pool_stride = 2\n",
    "pool_n_pos_width = int(((conv_layer.shape[0] - pool_size + 2*pool_pad)/pool_stride) + 1)\n",
    "pool_n_pos_height = int(((conv_layer.shape[1] - pool_size + 2*pool_pad)/pool_stride) + 1)\n",
    "\n",
    "# max pooling\n",
    "pool_layer = []\n",
    "for height in range(0, pool_n_pos_height):\n",
    "    for width in range(0, pool_n_pos_width):\n",
    "        recept_field = conv_layer[width:width+pool_size, height:height+pool_size, 0]\n",
    "        pool_layer.append(np.max(recept_field))\n",
    "pool_layer = np.asfarray(pool_layer).reshape(pool_n_pos_width, pool_n_pos_height, 1)\n",
    "pool_img = pool_layer.reshape(15, 15)\n",
    "\n",
    "## Fully Connected Layers\n",
    "# Hyper parameters\n",
    "IN_NEURONS = pool_layer.shape[0] * pool_layer.shape[1] * pool_layer.shape[2]\n",
    "HID_NEURONS = 100\n",
    "OUT_NEURONS = 10\n",
    "LEARNING_RATE = 0.2\n",
    "EPOCHS = 4\n",
    "\n",
    "target = batch_1_labels[0].reshape(-1, 1)\n",
    "# Initialize weights with random values of a normal distribution\n",
    "w_in_hid = np.random.normal(0.0, pow(HID_NEURONS, -1/2), (HID_NEURONS, IN_NEURONS))\n",
    "w_hid_out = np.random.normal(0.0, pow(OUT_NEURONS, -1/2), (OUT_NEURONS, HID_NEURONS))\n",
    "\n",
    "\n",
    "for e in range(EPOCHS):\n",
    "fc_in_layer = pool_layer.reshape(IN_NEURONS, 1)\n",
    "fc_hid_layer = sigmoid(w_in_hid.dot(fc_input_layer))\n",
    "fc_out_layer = sigmoid(w_hid_out.dot(fc_hid_layer))\n",
    "\n",
    "## Backpropagation\n",
    "# Calculate error vector for each layer\n",
    "error_out = target - fc_out_layer\n",
    "error_hid = w_hid_out.T.dot(error_out)\n",
    "error_in = w_in_hid.T.dot(error_hid)\n",
    "# Calculate dL/dwjk\n",
    "fc_out_layer_delta = error_out * sigmoid(fc_out_layer, deriv=True\n",
    "# Calculate dL/dij\n",
    "fc_hid_layer_delta = error_hid * sigmoid(fc_hid_layer, deriv=True)\n",
    "# Update weights of each layer\n",
    "w_hid_out += LEARNING_RATE * fc_out_layer_delta.dot(fc_hid_layer.T)\n",
    "w_in_hid += LEARNING_RATE * fc_hid_layer_delta.dot(fc_in_layer.T)\n",
    "\n"
   ]
  },
  {
   "cell_type": "markdown",
   "metadata": {},
   "source": [
    "## Visualizations of the Layers"
   ]
  },
  {
   "cell_type": "code",
   "execution_count": 16,
   "metadata": {},
   "outputs": [
    {
     "data": {
      "text/plain": [
       "<matplotlib.image.AxesImage at 0x2d484cbcfd0>"
      ]
     },
     "execution_count": 16,
     "metadata": {},
     "output_type": "execute_result"
    },
    {
     "data": {
      "image/png": "[encoded data removed]",
      "text/plain": [
       "<Figure size 432x288 with 1 Axes>"
      ]
     },
     "metadata": {},
     "output_type": "display_data"
    }
   ],
   "source": [
    "plt.imshow(input_layer)"
   ]
  },
  {
   "cell_type": "code",
   "execution_count": 18,
   "metadata": {},
   "outputs": [
    {
     "data": {
      "text/plain": [
       "<matplotlib.image.AxesImage at 0x2d48516ffd0>"
      ]
     },
     "execution_count": 18,
     "metadata": {},
     "output_type": "execute_result"
    },
    {
     "data": {
      "image/png": "[encoded data removed]",
      "text/plain": [
       "<Figure size 432x288 with 1 Axes>"
      ]
     },
     "metadata": {},
     "output_type": "display_data"
    }
   ],
   "source": [
    "plt.imshow(conv_img)"
   ]
  },
  {
   "cell_type": "code",
   "execution_count": 15,
   "metadata": {},
   "outputs": [
    {
     "data": {
      "text/plain": [
       "<matplotlib.image.AxesImage at 0x2d484db4668>"
      ]
     },
     "execution_count": 15,
     "metadata": {},
     "output_type": "execute_result"
    },
    {
     "data": {
      "image/png": "[encoded data removed]",
      "text/plain": [
       "<Figure size 432x288 with 1 Axes>"
      ]
     },
     "metadata": {},
     "output_type": "display_data"
    }
   ],
   "source": [
    "plt.imshow(pool_img)"
   ]
  }
 ],
 "metadata": {
  "kernelspec": {
   "display_name": "Python 3",
   "language": "python",
   "name": "python3"
  },
  "language_info": {
   "codemirror_mode": {
    "name": "ipython",
    "version": 3
   },
   "file_extension": ".py",
   "mimetype": "text/x-python",
   "name": "python",
   "nbconvert_exporter": "python",
   "pygments_lexer": "ipython3",
   "version": "3.6.0"
  }
 },
 "nbformat": 4,
 "nbformat_minor": 2
}
